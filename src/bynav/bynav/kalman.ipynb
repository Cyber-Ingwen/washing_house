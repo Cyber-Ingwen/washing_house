{
 "cells": [
  {
   "cell_type": "code",
   "execution_count": null,
   "metadata": {},
   "outputs": [],
   "source": [
    "import numpy as np\n",
    "import matplotlib.pyplot as plt"
   ]
  },
  {
   "cell_type": "code",
   "execution_count": null,
   "metadata": {},
   "outputs": [],
   "source": [
    "Z = np.linspace(1,10000,10000) \n",
    "Z = Z.reshape(10000,1) #观测值\n",
    "noise = np.random.randn(10000,1)\n",
    "Z = Z + noise\n",
    "print(Z.shape)\n",
    "#print(Z[1,0])\n",
    "print(Z)\n",
    "\n",
    "X = np.array([[0],[0.1]])  #状态的预测值\n",
    "print(X.shape)\n",
    "P = np.array([[1,0],[0,1]]) #状态协方差矩阵\n",
    "F = np.array([[1,1],[0,1]]) #状态转移矩阵\n",
    "print(F.shape)\n",
    "Q = np.array([[0.001,0],[0,0.001]]) #状态转移协方差矩阵\n",
    "H = np.array([[1,0]]) #观测矩阵\n",
    "print(H.shape)\n",
    "R = 1   #观测噪声方差"
   ]
  },
  {
   "cell_type": "code",
   "execution_count": null,
   "metadata": {},
   "outputs": [],
   "source": [
    "for i in range(1000):\n",
    "    #X_ = F@X\n",
    "    X_ = F@X\n",
    "    print(X)\n",
    "    print(F)\n",
    "   \n",
    "    P_ = F@P@F.transpose() + Q\n",
    "   \n",
    "    K = P_@H.transpose()@np.linalg.inv(H@P_@H.transpose() + R)\n",
    "    K = K[:,0]\n",
    "    K = K.reshape(2,1)\n",
    "    print(Z[i,:])\n",
    "    print(Z[i,:].shape)\n",
    "    X = X_ + K@(Z[i,:] - H@X_)\n",
    "    print(X.shape)\n",
    "\n",
    "\n",
    "    P = (np.identity(2) - K@H)@P_\n",
    "    print(X)\n",
    "    print(X[0,0],X[1,0])\n",
    "    plt.scatter(X[0,0],X[1,0])\n",
    "    \n",
    "plt.show()\n",
    "    "
   ]
  }
 ],
 "metadata": {
  "kernelspec": {
   "display_name": "Python 3.8.10 64-bit",
   "language": "python",
   "name": "python3"
  },
  "language_info": {
   "codemirror_mode": {
    "name": "ipython",
    "version": 3
   },
   "file_extension": ".py",
   "mimetype": "text/x-python",
   "name": "python",
   "nbconvert_exporter": "python",
   "pygments_lexer": "ipython3",
   "version": "3.8.10"
  },
  "orig_nbformat": 4,
  "vscode": {
   "interpreter": {
    "hash": "916dbcbb3f70747c44a77c7bcd40155683ae19c65e1c03b4aa3499c5328201f1"
   }
  }
 },
 "nbformat": 4,
 "nbformat_minor": 2
}
