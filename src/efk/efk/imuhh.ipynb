import numpy as np
import math
d = math.pi/180
r = 30 * d
p = 60 * d
y = 0 * d
rpy_m = np.zeros((3,1))
rpy_m[0][0] = r
rpy_m[0][0] = p
rpy_m[0][0] = y
A =np.zeros((3,3))
A[0][0] = math.cos(p) * math.cos(y)
A[0][1] = math.sin(y) * math.cos(p)
A[0][2] = - math.sin(p)
A[1][0] = math.sin(p) * math.sin(r) * math.cos(y) - math.sin(y) * math.cos(r)
A[1][1] = math.sin(p) * math.sin(r) * math.sin(y) + math.cos(r) * math.cos(y)
A[1][2] = math.sin(r) * math.cos(p)
A[2][0] = math.sin(p) * math.cos(r) * math.cos(y) - math.sin(y) * math.sin(r)
A[2][1] = math.sin(p) * math.cos(r) * math.cos(y) - math.cos(y) * math.sin(r)
A[2][2] = math.cos(p) * math.cos(r)
B = np.zeros((3,3))
B[0][0] = 1
B[0][1] = 0
B[0][2] = - math.sin(p)
B[1][1] = 0
B[1][2] = math.cos(r)
B[2][1] = - math.sin(r)
B[2][2] = math.cos(p) * math.cos(r)
