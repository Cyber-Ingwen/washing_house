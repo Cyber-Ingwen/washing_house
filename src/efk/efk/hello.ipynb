{
 "cells": [
  {
   "cell_type": "code",
   "execution_count": 7,
   "metadata": {},
   "outputs": [
    {
     "name": "stdout",
     "output_type": "stream",
     "text": [
      "3602879701896397/9007199254740992\n",
      "3602879701896397/9007199254740992\n"
     ]
    },
    {
     "data": {
      "text/latex": [
       "$\\displaystyle \\frac{3602879701896397}{9007199254740992}$"
      ],
      "text/plain": [
       "3602879701896397/9007199254740992"
      ]
     },
     "execution_count": 7,
     "metadata": {},
     "output_type": "execute_result"
    }
   ],
   "source": [
    "from pprint import pprint\n",
    "from sympy import Rational\n",
    "q = Rational(1/10)\n",
    "q2 = Rational(1/10)\n",
    "val = (q + q2) *2\n",
    "print(val)\n",
    "pprint(val)\n",
    "val"
   ]
  },
  {
   "cell_type": "code",
   "execution_count": null,
   "metadata": {},
   "outputs": [],
   "source": [
    "import numpy as np\n",
    "a = np.zeros((6,1))\n",
    "print(a.shape)"
   ]
  },
  {
   "cell_type": "code",
   "execution_count": 8,
   "metadata": {},
   "outputs": [
    {
     "name": "stdout",
     "output_type": "stream",
     "text": [
      "√2\n",
      "sqrt(2)\n",
      "------------------------\n",
      " 2⋅x\n",
      "ℯ   \n",
      "────\n",
      " 2  \n",
      "exp(2*x)/2\n"
     ]
    }
   ],
   "source": [
    "from sympy import pprint, Symbol, exp, sqrt\n",
    "from sympy import init_printing\n",
    "\n",
    "init_printing(use_unicode=True)\n",
    "\n",
    "x = Symbol('x')\n",
    "\n",
    "a = sqrt(2)\n",
    "pprint(a)\n",
    "print(a)\n",
    "\n",
    "print(\"------------------------\")\n",
    "\n",
    "c = (exp(x) ** 2)/2\n",
    "pprint(c)\n",
    "print(c)"
   ]
  }
 ],
 "metadata": {
  "kernelspec": {
   "display_name": "Python 3.8.10 64-bit",
   "language": "python",
   "name": "python3"
  },
  "language_info": {
   "codemirror_mode": {
    "name": "ipython",
    "version": 3
   },
   "file_extension": ".py",
   "mimetype": "text/x-python",
   "name": "python",
   "nbconvert_exporter": "python",
   "pygments_lexer": "ipython3",
   "version": "3.8.10"
  },
  "orig_nbformat": 4,
  "vscode": {
   "interpreter": {
    "hash": "916dbcbb3f70747c44a77c7bcd40155683ae19c65e1c03b4aa3499c5328201f1"
   }
  }
 },
 "nbformat": 4,
 "nbformat_minor": 2
}
