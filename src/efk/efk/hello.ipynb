{
 "cells": [
  {
   "cell_type": "code",
   "execution_count": 128,
   "metadata": {},
   "outputs": [
    {
     "name": "stdout",
     "output_type": "stream",
     "text": [
      "3602879701896397/9007199254740992\n",
      "3602879701896397/9007199254740992\n"
     ]
    },
    {
     "data": {
      "image/png": "[encoded data removed]",
      "text/latex": [
       "$\\displaystyle \\frac{3602879701896397}{9007199254740992}$"
      ],
      "text/plain": [
       "3602879701896397\n",
       "────────────────\n",
       "9007199254740992"
      ]
     },
     "execution_count": 128,
     "metadata": {},
     "output_type": "execute_result"
    }
   ],
   "source": [
    "from pprint import pprint\n",
    "from sympy import Rational\n",
    "q = Rational(1/10)\n",
    "q2 = Rational(1/10)\n",
    "val = (q + q2) *2\n",
    "print(val)\n",
    "pprint(val)\n",
    "val"
   ]
  },
  {
   "cell_type": "code",
   "execution_count": 129,
   "metadata": {},
   "outputs": [
    {
     "name": "stdout",
     "output_type": "stream",
     "text": [
      "(6, 1) <class 'numpy.ndarray'>\n",
      "[0.]\n"
     ]
    }
   ],
   "source": [
    "import numpy as np\n",
    "a = np.zeros((6,1))\n",
    "print(a.shape, type(a))\n",
    "print(a[0])"
   ]
  },
  {
   "cell_type": "code",
   "execution_count": 130,
   "metadata": {},
   "outputs": [
    {
     "name": "stdout",
     "output_type": "stream",
     "text": [
      "√2\n",
      "sqrt(2)\n",
      "------------------------\n",
      " 2⋅x\n",
      "ℯ   \n",
      "────\n",
      " 2  \n",
      "exp(2*x)/2\n"
     ]
    }
   ],
   "source": [
    "from sympy import pprint, Symbol, exp, sqrt\n",
    "from sympy import init_printing\n",
    "\n",
    "init_printing(use_unicode=True)\n",
    "\n",
    "x = Symbol('x')\n",
    "\n",
    "a = sqrt(2)\n",
    "pprint(a)\n",
    "print(a)\n",
    "\n",
    "print(\"------------------------\")\n",
    "\n",
    "c = (exp(x) ** 2)/2\n",
    "pprint(c)\n",
    "print(c)"
   ]
  },
  {
   "cell_type": "code",
   "execution_count": 131,
   "metadata": {},
   "outputs": [],
   "source": [
    "from sympy import *\n",
    "r, p ,y = symbols('r, p, y')"
   ]
  },
  {
   "cell_type": "code",
   "execution_count": 132,
   "metadata": {},
   "outputs": [
    {
     "data": {
      "text/latex": [
       "$\\displaystyle \\left[\\begin{matrix}1 & 0 & 0\\\\0 & \\cos{\\left(r \\right)} & \\sin{\\left(r \\right)}\\\\0 & - \\sin{\\left(r \\right)} & \\cos{\\left(r \\right)}\\end{matrix}\\right]$"
      ],
      "text/plain": [
       "⎡1     0       0   ⎤\n",
       "⎢                  ⎥\n",
       "⎢0  cos(r)   sin(r)⎥\n",
       "⎢                  ⎥\n",
       "⎣0  -sin(r)  cos(r)⎦"
      ]
     },
     "execution_count": 132,
     "metadata": {},
     "output_type": "execute_result"
    }
   ],
   "source": [
    "M_x = Matrix([[1,0 ,0],[0, cos(r), sin(r)],[0, -sin(r), cos(r)]])\n",
    "M_x"
   ]
  },
  {
   "cell_type": "code",
   "execution_count": 133,
   "metadata": {},
   "outputs": [
    {
     "data": {
      "text/latex": [
       "$\\displaystyle \\left[\\begin{matrix}\\cos{\\left(p \\right)} & 0 & - \\sin{\\left(p \\right)}\\\\0 & 1 & 0\\\\\\sin{\\left(p \\right)} & 0 & \\cos{\\left(p \\right)}\\end{matrix}\\right]$"
      ],
      "text/plain": [
       "⎡cos(p)  0  -sin(p)⎤\n",
       "⎢                  ⎥\n",
       "⎢  0     1     0   ⎥\n",
       "⎢                  ⎥\n",
       "⎣sin(p)  0  cos(p) ⎦"
      ]
     },
     "execution_count": 133,
     "metadata": {},
     "output_type": "execute_result"
    }
   ],
   "source": [
    "M_x = Matrix([[1,0 ,0],[0, cos(r), sin(r)],[0, -sin(r), cos(r)]])\n",
    "M_y = Matrix([[cos(p), 0 ,-sin(p)],[0, 1, 0],[sin(p), 0, cos(p)]])\n",
    "M_y"
   ]
  },
  {
   "cell_type": "code",
   "execution_count": 134,
   "metadata": {},
   "outputs": [
    {
     "data": {
      "text/latex": [
       "$\\displaystyle \\left[\\begin{matrix}\\cos{\\left(y \\right)} & \\sin{\\left(y \\right)} & 0\\\\- \\sin{\\left(y \\right)} & \\cos{\\left(y \\right)} & 0\\\\0 & 0 & 1\\end{matrix}\\right]$"
      ],
      "text/plain": [
       "⎡cos(y)   sin(y)  0⎤\n",
       "⎢                  ⎥\n",
       "⎢-sin(y)  cos(y)  0⎥\n",
       "⎢                  ⎥\n",
       "⎣   0       0     1⎦"
      ]
     },
     "execution_count": 134,
     "metadata": {},
     "output_type": "execute_result"
    }
   ],
   "source": [
    "M_x = Matrix([[1,0 ,0],[0, cos(r), sin(r)],[0, -sin(r), cos(r)]])\n",
    "M_y = Matrix([[cos(p), 0 ,-sin(p)],[0, 1, 0],[sin(p), 0, cos(p)]])\n",
    "M_z = Matrix([[cos(y), sin(y), 0],[-sin(y), cos(y), 0],[0, 0, 1]])\n",
    "M_z"
   ]
  },
  {
   "cell_type": "code",
   "execution_count": 135,
   "metadata": {},
   "outputs": [],
   "source": [
    "drdt, dpdt, dydt = symbols(\"dr_dt,dp_dt,dy_dt\")"
   ]
  },
  {
   "cell_type": "code",
   "execution_count": 136,
   "metadata": {},
   "outputs": [
    {
     "data": {
      "text/latex": [
       "$\\displaystyle \\left[\\begin{matrix}dr_{dt}\\\\0\\\\0\\end{matrix}\\right]$"
      ],
      "text/plain": [
       "⎡dr_dt⎤\n",
       "⎢     ⎥\n",
       "⎢  0  ⎥\n",
       "⎢     ⎥\n",
       "⎣  0  ⎦"
      ]
     },
     "execution_count": 136,
     "metadata": {},
     "output_type": "execute_result"
    }
   ],
   "source": [
    "dr_t = Matrix([[drdt],[0],[0]])\n",
    "dr_t"
   ]
  },
  {
   "cell_type": "code",
   "execution_count": 137,
   "metadata": {},
   "outputs": [
    {
     "data": {
      "text/latex": [
       "$\\displaystyle \\left[\\begin{matrix}0\\\\dp_{dt}\\\\0\\end{matrix}\\right]$"
      ],
      "text/plain": [
       "⎡  0  ⎤\n",
       "⎢     ⎥\n",
       "⎢dp_dt⎥\n",
       "⎢     ⎥\n",
       "⎣  0  ⎦"
      ]
     },
     "execution_count": 137,
     "metadata": {},
     "output_type": "execute_result"
    }
   ],
   "source": [
    "dp_t = Matrix([[0],[dpdt],[0]])\n",
    "dp_t"
   ]
  },
  {
   "cell_type": "code",
   "execution_count": 138,
   "metadata": {},
   "outputs": [
    {
     "data": {
      "text/latex": [
       "$\\displaystyle \\left[\\begin{matrix}0\\\\0\\\\dy_{dt}\\end{matrix}\\right]$"
      ],
      "text/plain": [
       "⎡  0  ⎤\n",
       "⎢     ⎥\n",
       "⎢  0  ⎥\n",
       "⎢     ⎥\n",
       "⎣dy_dt⎦"
      ]
     },
     "execution_count": 138,
     "metadata": {},
     "output_type": "execute_result"
    }
   ],
   "source": [
    "dy_t = Matrix([[0],[0],[dydt]])\n",
    "dy_t"
   ]
  },
  {
   "cell_type": "code",
   "execution_count": 139,
   "metadata": {},
   "outputs": [
    {
     "data": {
      "text/latex": [
       "$\\displaystyle \\left[\\begin{matrix}dr_{dt} - dy_{dt} \\sin{\\left(p \\right)}\\\\dp_{dt} \\cos{\\left(r \\right)} + dy_{dt} \\sin{\\left(r \\right)} \\cos{\\left(p \\right)}\\\\- dp_{dt} \\sin{\\left(r \\right)} + dy_{dt} \\cos{\\left(p \\right)} \\cos{\\left(r \\right)}\\end{matrix}\\right]$"
      ],
      "text/plain": [
       "⎡       dr_dt - dy_dt⋅sin(p)        ⎤\n",
       "⎢                                   ⎥\n",
       "⎢dp_dt⋅cos(r) + dy_dt⋅sin(r)⋅cos(p) ⎥\n",
       "⎢                                   ⎥\n",
       "⎣-dp_dt⋅sin(r) + dy_dt⋅cos(p)⋅cos(r)⎦"
      ]
     },
     "execution_count": 139,
     "metadata": {},
     "output_type": "execute_result"
    }
   ],
   "source": [
    "IMU_gyro = M_x * M_y * dy_t + M_x * dp_t + dr_t\n",
    "IMU_gyro"
   ]
  },
  {
   "cell_type": "code",
   "execution_count": 140,
   "metadata": {},
   "outputs": [
    {
     "data": {
      "text/latex": [
       "$\\displaystyle \\left[\\begin{matrix}dr_{dt}\\\\dp_{dt}\\\\dy_{dt}\\end{matrix}\\right]$"
      ],
      "text/plain": [
       "⎡dr_dt⎤\n",
       "⎢     ⎥\n",
       "⎢dp_dt⎥\n",
       "⎢     ⎥\n",
       "⎣dy_dt⎦"
      ]
     },
     "execution_count": 140,
     "metadata": {},
     "output_type": "execute_result"
    }
   ],
   "source": [
    "rpy_t = Matrix([[drdt],[dpdt],[dydt]])\n",
    "rpy_t"
   ]
  },
  {
   "cell_type": "code",
   "execution_count": 141,
   "metadata": {},
   "outputs": [
    {
     "data": {
      "text/latex": [
       "$\\displaystyle \\left[\\begin{matrix}1 & 0 & - \\sin{\\left(p \\right)}\\\\0 & \\cos{\\left(r \\right)} & \\sin{\\left(r \\right)} \\cos{\\left(p \\right)}\\\\0 & - \\sin{\\left(r \\right)} & \\cos{\\left(p \\right)} \\cos{\\left(r \\right)}\\end{matrix}\\right]$"
      ],
      "text/plain": [
       "⎡1     0        -sin(p)   ⎤\n",
       "⎢                         ⎥\n",
       "⎢0  cos(r)   sin(r)⋅cos(p)⎥\n",
       "⎢                         ⎥\n",
       "⎣0  -sin(r)  cos(p)⋅cos(r)⎦"
      ]
     },
     "execution_count": 141,
     "metadata": {},
     "output_type": "execute_result"
    }
   ],
   "source": [
    "M_gyro = Matrix([[1,0,-sin(p)],[0,cos(r),cos(p)*sin(r)],[0,-sin(r),cos(p)*cos(r)]])\n",
    "M_gyro"
   ]
  },
  {
   "cell_type": "code",
   "execution_count": 142,
   "metadata": {},
   "outputs": [
    {
     "data": {
      "text/latex": [
       "$\\displaystyle \\left[\\begin{matrix}dr_{dt} - dy_{dt} \\sin{\\left(p \\right)}\\\\dp_{dt} \\cos{\\left(r \\right)} + dy_{dt} \\sin{\\left(r \\right)} \\cos{\\left(p \\right)}\\\\- dp_{dt} \\sin{\\left(r \\right)} + dy_{dt} \\cos{\\left(p \\right)} \\cos{\\left(r \\right)}\\end{matrix}\\right]$"
      ],
      "text/plain": [
       "⎡       dr_dt - dy_dt⋅sin(p)        ⎤\n",
       "⎢                                   ⎥\n",
       "⎢dp_dt⋅cos(r) + dy_dt⋅sin(r)⋅cos(p) ⎥\n",
       "⎢                                   ⎥\n",
       "⎣-dp_dt⋅sin(r) + dy_dt⋅cos(p)⋅cos(r)⎦"
      ]
     },
     "execution_count": 142,
     "metadata": {},
     "output_type": "execute_result"
    }
   ],
   "source": [
    "M_gyro *rpy_t"
   ]
  },
  {
   "cell_type": "code",
   "execution_count": 143,
   "metadata": {},
   "outputs": [
    {
     "data": {
      "text/latex": [
       "$\\displaystyle \\left[\\begin{matrix}1 & \\frac{\\sin{\\left(p \\right)} \\sin{\\left(r \\right)}}{\\sin^{2}{\\left(r \\right)} \\cos{\\left(p \\right)} + \\cos{\\left(p \\right)} \\cos^{2}{\\left(r \\right)}} & \\frac{\\sin{\\left(p \\right)} \\cos{\\left(r \\right)}}{\\sin^{2}{\\left(r \\right)} \\cos{\\left(p \\right)} + \\cos{\\left(p \\right)} \\cos^{2}{\\left(r \\right)}}\\\\0 & \\frac{\\cos{\\left(r \\right)}}{\\sin^{2}{\\left(r \\right)} + \\cos^{2}{\\left(r \\right)}} & - \\frac{\\sin{\\left(r \\right)}}{\\sin^{2}{\\left(r \\right)} + \\cos^{2}{\\left(r \\right)}}\\\\0 & \\frac{\\sin{\\left(r \\right)}}{\\sin^{2}{\\left(r \\right)} \\cos{\\left(p \\right)} + \\cos{\\left(p \\right)} \\cos^{2}{\\left(r \\right)}} & \\frac{\\cos{\\left(r \\right)}}{\\sin^{2}{\\left(r \\right)} \\cos{\\left(p \\right)} + \\cos{\\left(p \\right)} \\cos^{2}{\\left(r \\right)}}\\end{matrix}\\right]$"
      ],
      "text/plain": [
       "⎡            sin(p)⋅sin(r)                    sin(p)⋅cos(r)         ⎤\n",
       "⎢1  ───────────────────────────────  ───────────────────────────────⎥\n",
       "⎢      2                       2        2                       2   ⎥\n",
       "⎢   sin (r)⋅cos(p) + cos(p)⋅cos (r)  sin (r)⋅cos(p) + cos(p)⋅cos (r)⎥\n",
       "⎢                                                                   ⎥\n",
       "⎢                cos(r)                          -sin(r)            ⎥\n",
       "⎢0         ─────────────────                ─────────────────       ⎥\n",
       "⎢             2         2                      2         2          ⎥\n",
       "⎢          sin (r) + cos (r)                sin (r) + cos (r)       ⎥\n",
       "⎢                                                                   ⎥\n",
       "⎢                sin(r)                           cos(r)            ⎥\n",
       "⎢0  ───────────────────────────────  ───────────────────────────────⎥\n",
       "⎢      2                       2        2                       2   ⎥\n",
       "⎣   sin (r)⋅cos(p) + cos(p)⋅cos (r)  sin (r)⋅cos(p) + cos(p)⋅cos (r)⎦"
      ]
     },
     "execution_count": 143,
     "metadata": {},
     "output_type": "execute_result"
    }
   ],
   "source": [
    "\n",
    "M_gro_inv = M_gyro ** -1\n",
    "M_gro_inv"
   ]
  },
  {
   "cell_type": "code",
   "execution_count": 144,
   "metadata": {},
   "outputs": [
    {
     "data": {
      "text/latex": [
       "$\\displaystyle \\left[\\begin{matrix}1 & \\sin{\\left(r \\right)} \\tan{\\left(p \\right)} & \\cos{\\left(r \\right)} \\tan{\\left(p \\right)}\\\\0 & \\cos{\\left(r \\right)} & - \\sin{\\left(r \\right)}\\\\0 & \\frac{\\sin{\\left(r \\right)}}{\\cos{\\left(p \\right)}} & \\frac{\\cos{\\left(r \\right)}}{\\cos{\\left(p \\right)}}\\end{matrix}\\right]$"
      ],
      "text/plain": [
       "⎡1  sin(r)⋅tan(p)  cos(r)⋅tan(p)⎤\n",
       "⎢                               ⎥\n",
       "⎢0     cos(r)         -sin(r)   ⎥\n",
       "⎢                               ⎥\n",
       "⎢      sin(r)         cos(r)    ⎥\n",
       "⎢0     ──────         ──────    ⎥\n",
       "⎣      cos(p)         cos(p)    ⎦"
      ]
     },
     "execution_count": 144,
     "metadata": {},
     "output_type": "execute_result"
    }
   ],
   "source": [
    "M_gro_inv_sim = trigsimp(M_gro_inv)\n",
    "M_gro_inv_sim"
   ]
  },
  {
   "cell_type": "code",
   "execution_count": 145,
   "metadata": {},
   "outputs": [
    {
     "data": {
      "text/latex": [
       "$\\displaystyle \\left[\\begin{matrix}\\cos{\\left(p \\right)} \\cos{\\left(y \\right)} & \\sin{\\left(y \\right)} \\cos{\\left(p \\right)} & - \\sin{\\left(p \\right)}\\\\\\sin{\\left(p \\right)} \\sin{\\left(r \\right)} \\cos{\\left(y \\right)} - \\sin{\\left(y \\right)} \\cos{\\left(r \\right)} & \\sin{\\left(p \\right)} \\sin{\\left(r \\right)} \\sin{\\left(y \\right)} + \\cos{\\left(r \\right)} \\cos{\\left(y \\right)} & \\sin{\\left(r \\right)} \\cos{\\left(p \\right)}\\\\\\sin{\\left(p \\right)} \\cos{\\left(r \\right)} \\cos{\\left(y \\right)} + \\sin{\\left(r \\right)} \\sin{\\left(y \\right)} & \\sin{\\left(p \\right)} \\sin{\\left(y \\right)} \\cos{\\left(r \\right)} - \\sin{\\left(r \\right)} \\cos{\\left(y \\right)} & \\cos{\\left(p \\right)} \\cos{\\left(r \\right)}\\end{matrix}\\right]$"
      ],
      "text/plain": [
       "⎡           cos(p)⋅cos(y)                         sin(y)⋅cos(p)               \n",
       "⎢                                                                             \n",
       "⎢sin(p)⋅sin(r)⋅cos(y) - sin(y)⋅cos(r)  sin(p)⋅sin(r)⋅sin(y) + cos(r)⋅cos(y)  s\n",
       "⎢                                                                             \n",
       "⎣sin(p)⋅cos(r)⋅cos(y) + sin(r)⋅sin(y)  sin(p)⋅sin(y)⋅cos(r) - sin(r)⋅cos(y)  c\n",
       "\n",
       "  -sin(p)   ⎤\n",
       "            ⎥\n",
       "in(r)⋅cos(p)⎥\n",
       "            ⎥\n",
       "os(p)⋅cos(r)⎦"
      ]
     },
     "execution_count": 145,
     "metadata": {},
     "output_type": "execute_result"
    }
   ],
   "source": [
    "M = M_x*M_y*M_z\n",
    "M"
   ]
  },
  {
   "cell_type": "code",
   "execution_count": 146,
   "metadata": {},
   "outputs": [
    {
     "data": {
      "text/latex": [
       "$\\displaystyle \\left[\\begin{matrix}0.289629477625516 dp_{dt} + 0.936293363584199 dr_{dt} - 0.198669330795061 dy_{dt}\\\\0.485660424708349 dp_{dt} + 0.0351008269104066 dr_{dt} + 0.873442547522338 dy_{dt}\\\\- 0.824771918509886 dp_{dt} + 0.349460540345247 dr_{dt} + 0.444554398447626 dy_{dt}\\end{matrix}\\right]$"
      ],
      "text/plain": [
       "⎡0.289629477625516⋅dp_dt + 0.936293363584199⋅dr_dt - 0.198669330795061⋅dy_dt ⎤\n",
       "⎢                                                                            ⎥\n",
       "⎢0.485660424708349⋅dp_dt + 0.0351008269104066⋅dr_dt + 0.873442547522338⋅dy_dt⎥\n",
       "⎢                                                                            ⎥\n",
       "⎣-0.824771918509886⋅dp_dt + 0.349460540345247⋅dr_dt + 0.444554398447626⋅dy_dt⎦"
      ]
     },
     "execution_count": 146,
     "metadata": {},
     "output_type": "execute_result"
    }
   ],
   "source": [
    "\n",
    "ma_a = Matrix([[drdt],[dpdt],[dydt]])\n",
    "k=M*ma_a\n",
    "k.evalf(subs={r:1.1,p:0.2,y:0.3})"
   ]
  },
  {
   "cell_type": "code",
   "execution_count": 147,
   "metadata": {},
   "outputs": [
    {
     "data": {
      "text/latex": [
       "$\\displaystyle \\left[\\begin{matrix}dr_{dt} - 0.198669330795061 dy_{dt}\\\\0.453596121425577 dp_{dt} + 0.873442547522338 dy_{dt}\\\\- 0.891207360061435 dp_{dt} + 0.444554398447626 dy_{dt}\\end{matrix}\\right]$"
      ],
      "text/plain": [
       "⎡         dr_dt - 0.198669330795061⋅dy_dt          ⎤\n",
       "⎢                                                  ⎥\n",
       "⎢0.453596121425577⋅dp_dt + 0.873442547522338⋅dy_dt ⎥\n",
       "⎢                                                  ⎥\n",
       "⎣-0.891207360061435⋅dp_dt + 0.444554398447626⋅dy_dt⎦"
      ]
     },
     "execution_count": 147,
     "metadata": {},
     "output_type": "execute_result"
    }
   ],
   "source": [
    "IMU_gyro.evalf(subs={r:1.1,p:0.2,y:0.3})"
   ]
  },
  {
   "cell_type": "code",
   "execution_count": 148,
   "metadata": {},
   "outputs": [],
   "source": [
    "rk,pk,yk =symbols('r_k,p_k,y_k')\n",
    "rk_1,pk_1,yk_1 =symbols('r_k-1,p_k-1,y_k-1')"
   ]
  },
  {
   "cell_type": "code",
   "execution_count": 149,
   "metadata": {},
   "outputs": [
    {
     "data": {
      "text/latex": [
       "$\\displaystyle \\left[\\begin{matrix}1 & \\sin{\\left(r \\right)} \\tan{\\left(p \\right)} & \\cos{\\left(r \\right)} \\tan{\\left(p \\right)}\\\\0 & \\cos{\\left(r \\right)} & - \\sin{\\left(r \\right)}\\\\0 & \\frac{\\sin{\\left(r \\right)}}{\\cos{\\left(p \\right)}} & \\frac{\\cos{\\left(r \\right)}}{\\cos{\\left(p \\right)}}\\end{matrix}\\right]$"
      ],
      "text/plain": [
       "⎡1  sin(r)⋅tan(p)  cos(r)⋅tan(p)⎤\n",
       "⎢                               ⎥\n",
       "⎢0     cos(r)         -sin(r)   ⎥\n",
       "⎢                               ⎥\n",
       "⎢      sin(r)         cos(r)    ⎥\n",
       "⎢0     ──────         ──────    ⎥\n",
       "⎣      cos(p)         cos(p)    ⎦"
      ]
     },
     "execution_count": 149,
     "metadata": {},
     "output_type": "execute_result"
    }
   ],
   "source": [
    "r = rk-1\n",
    "p = pk-1\n",
    "y = yk-1\n",
    "M_gro_inv_sim"
   ]
  },
  {
   "cell_type": "code",
   "execution_count": 150,
   "metadata": {},
   "outputs": [
    {
     "data": {
      "text/latex": [
       "$\\displaystyle \\left[\\begin{matrix}0\\\\0\\\\g\\end{matrix}\\right]$"
      ],
      "text/plain": [
       "⎡0⎤\n",
       "⎢ ⎥\n",
       "⎢0⎥\n",
       "⎢ ⎥\n",
       "⎣g⎦"
      ]
     },
     "execution_count": 150,
     "metadata": {},
     "output_type": "execute_result"
    }
   ],
   "source": [
    "g=symbols(\"g\")\n",
    "acc = Matrix([[0],[0],[g]])\n",
    "acc"
   ]
  },
  {
   "cell_type": "code",
   "execution_count": 151,
   "metadata": {},
   "outputs": [
    {
     "data": {
      "text/latex": [
       "$\\displaystyle \\left[\\begin{matrix}- g \\sin{\\left(p \\right)}\\\\g \\sin{\\left(r \\right)} \\cos{\\left(p \\right)}\\\\g \\cos{\\left(p \\right)} \\cos{\\left(r \\right)}\\end{matrix}\\right]$"
      ],
      "text/plain": [
       "⎡   -g⋅sin(p)   ⎤\n",
       "⎢               ⎥\n",
       "⎢g⋅sin(r)⋅cos(p)⎥\n",
       "⎢               ⎥\n",
       "⎣g⋅cos(p)⋅cos(r)⎦"
      ]
     },
     "execution_count": 151,
     "metadata": {},
     "output_type": "execute_result"
    }
   ],
   "source": [
    "IMU_acc = M*acc\n",
    "IMU_acc"
   ]
  },
  {
   "cell_type": "code",
   "execution_count": 152,
   "metadata": {},
   "outputs": [
    {
     "data": {
      "image/png": "[encoded data removed]",
      "text/latex": [
       "$\\displaystyle 4.15967359264978$"
      ],
      "text/plain": [
       "4.159673592649776"
      ]
     },
     "execution_count": 152,
     "metadata": {},
     "output_type": "execute_result"
    }
   ],
   "source": [
    "import math\n",
    "d = math.pi/180\n",
    "math.sin(90)\n",
    "# math.sin(90*d) ##keyide\n",
    "# math.atan(1) / d\n",
    "0.0726/d"
   ]
  },
  {
   "cell_type": "code",
   "execution_count": 153,
   "metadata": {},
   "outputs": [
    {
     "data": {
      "text/latex": [
       "$\\displaystyle \\left[\\begin{matrix}\\cos{\\left(p \\right)} \\cos{\\left(y \\right)} & \\sin{\\left(y \\right)} \\cos{\\left(p \\right)} & - \\sin{\\left(p \\right)}\\\\\\sin{\\left(p \\right)} \\sin{\\left(r \\right)} \\cos{\\left(y \\right)} - \\sin{\\left(y \\right)} \\cos{\\left(r \\right)} & \\sin{\\left(p \\right)} \\sin{\\left(r \\right)} \\sin{\\left(y \\right)} + \\cos{\\left(r \\right)} \\cos{\\left(y \\right)} & \\sin{\\left(r \\right)} \\cos{\\left(p \\right)}\\\\\\sin{\\left(p \\right)} \\cos{\\left(r \\right)} \\cos{\\left(y \\right)} + \\sin{\\left(r \\right)} \\sin{\\left(y \\right)} & \\sin{\\left(p \\right)} \\sin{\\left(y \\right)} \\cos{\\left(r \\right)} - \\sin{\\left(r \\right)} \\cos{\\left(y \\right)} & \\cos{\\left(p \\right)} \\cos{\\left(r \\right)}\\end{matrix}\\right]$"
      ],
      "text/plain": [
       "⎡           cos(p)⋅cos(y)                         sin(y)⋅cos(p)               \n",
       "⎢                                                                             \n",
       "⎢sin(p)⋅sin(r)⋅cos(y) - sin(y)⋅cos(r)  sin(p)⋅sin(r)⋅sin(y) + cos(r)⋅cos(y)  s\n",
       "⎢                                                                             \n",
       "⎣sin(p)⋅cos(r)⋅cos(y) + sin(r)⋅sin(y)  sin(p)⋅sin(y)⋅cos(r) - sin(r)⋅cos(y)  c\n",
       "\n",
       "  -sin(p)   ⎤\n",
       "            ⎥\n",
       "in(r)⋅cos(p)⎥\n",
       "            ⎥\n",
       "os(p)⋅cos(r)⎦"
      ]
     },
     "execution_count": 153,
     "metadata": {},
     "output_type": "execute_result"
    }
   ],
   "source": [
    "M"
   ]
  },
  {
   "cell_type": "code",
   "execution_count": 154,
   "metadata": {},
   "outputs": [
    {
     "data": {
      "text/plain": [
       "array([[1.   , 0.   , 0.   , 0.01 , 0.   , 0.   ],\n",
       "       [0.   , 1.   , 0.   , 0.   , 0.01 , 0.   ],\n",
       "       [0.   , 0.   , 1.   , 0.   , 0.   , 0.01 ],\n",
       "       [0.   , 0.   , 0.   , 1.005, 0.   , 0.   ],\n",
       "       [0.   , 0.   , 0.   , 0.   , 1.005, 0.   ],\n",
       "       [0.   , 0.   , 0.   , 0.   , 0.   , 1.005]])"
      ]
     },
     "execution_count": 154,
     "metadata": {},
     "output_type": "execute_result"
    }
   ],
   "source": [
    "A = np.eye(6) + np.diag(np.ones((1, 3))[0, :], 3) * 0.01\n",
    "A[3][3] += 0.005\n",
    "A[4][4] += 0.005\n",
    "A[5][5] += 0.005\n",
    "A"
   ]
  },
  {
   "cell_type": "code",
   "execution_count": 155,
   "metadata": {},
   "outputs": [
    {
     "data": {
      "text/latex": [
       "$\\displaystyle \\left[\\begin{matrix}aa \\cos{\\left(p \\right)} \\cos{\\left(y \\right)} + bb \\sin{\\left(y \\right)} \\cos{\\left(p \\right)} - cc \\sin{\\left(p \\right)}\\\\aa \\left(\\sin{\\left(p \\right)} \\sin{\\left(r \\right)} \\cos{\\left(y \\right)} - \\sin{\\left(y \\right)} \\cos{\\left(r \\right)}\\right) + bb \\left(\\sin{\\left(p \\right)} \\sin{\\left(r \\right)} \\sin{\\left(y \\right)} + \\cos{\\left(r \\right)} \\cos{\\left(y \\right)}\\right) + cc \\sin{\\left(r \\right)} \\cos{\\left(p \\right)}\\\\aa \\left(\\sin{\\left(p \\right)} \\cos{\\left(r \\right)} \\cos{\\left(y \\right)} + \\sin{\\left(r \\right)} \\sin{\\left(y \\right)}\\right) + bb \\left(\\sin{\\left(p \\right)} \\sin{\\left(y \\right)} \\cos{\\left(r \\right)} - \\sin{\\left(r \\right)} \\cos{\\left(y \\right)}\\right) + cc \\cos{\\left(p \\right)} \\cos{\\left(r \\right)}\\end{matrix}\\right]$"
      ],
      "text/plain": [
       "⎡                            aa⋅cos(p)⋅cos(y) + bb⋅sin(y)⋅cos(p) - cc⋅sin(p)  \n",
       "⎢                                                                             \n",
       "⎢aa⋅(sin(p)⋅sin(r)⋅cos(y) - sin(y)⋅cos(r)) + bb⋅(sin(p)⋅sin(r)⋅sin(y) + cos(r)\n",
       "⎢                                                                             \n",
       "⎣aa⋅(sin(p)⋅cos(r)⋅cos(y) + sin(r)⋅sin(y)) + bb⋅(sin(p)⋅sin(y)⋅cos(r) - sin(r)\n",
       "\n",
       "                           ⎤\n",
       "                           ⎥\n",
       "⋅cos(y)) + cc⋅sin(r)⋅cos(p)⎥\n",
       "                           ⎥\n",
       "⋅cos(y)) + cc⋅cos(p)⋅cos(r)⎦"
      ]
     },
     "execution_count": 155,
     "metadata": {},
     "output_type": "execute_result"
    }
   ],
   "source": [
    "\n",
    "aa,bb,cc = symbols('aa ,bb ,cc')\n",
    "c = Matrix([[aa],[bb],[cc]])\n",
    "c\n",
    "a = M * c\n",
    "a"
   ]
  },
  {
   "cell_type": "code",
   "execution_count": 156,
   "metadata": {},
   "outputs": [
    {
     "data": {
      "text/latex": [
       "$\\displaystyle \\left[\\begin{matrix}\\cos{\\left(p \\right)} \\cos{\\left(y \\right)} & \\sin{\\left(y \\right)} \\cos{\\left(p \\right)} & - \\sin{\\left(p \\right)}\\\\\\sin{\\left(p \\right)} \\sin{\\left(r \\right)} \\cos{\\left(y \\right)} - \\sin{\\left(y \\right)} \\cos{\\left(r \\right)} & \\sin{\\left(p \\right)} \\sin{\\left(r \\right)} \\sin{\\left(y \\right)} + \\cos{\\left(r \\right)} \\cos{\\left(y \\right)} & \\sin{\\left(r \\right)} \\cos{\\left(p \\right)}\\\\\\sin{\\left(p \\right)} \\cos{\\left(r \\right)} \\cos{\\left(y \\right)} + \\sin{\\left(r \\right)} \\sin{\\left(y \\right)} & \\sin{\\left(p \\right)} \\sin{\\left(y \\right)} \\cos{\\left(r \\right)} - \\sin{\\left(r \\right)} \\cos{\\left(y \\right)} & \\cos{\\left(p \\right)} \\cos{\\left(r \\right)}\\end{matrix}\\right]$"
      ],
      "text/plain": [
       "⎡           cos(p)⋅cos(y)                         sin(y)⋅cos(p)               \n",
       "⎢                                                                             \n",
       "⎢sin(p)⋅sin(r)⋅cos(y) - sin(y)⋅cos(r)  sin(p)⋅sin(r)⋅sin(y) + cos(r)⋅cos(y)  s\n",
       "⎢                                                                             \n",
       "⎣sin(p)⋅cos(r)⋅cos(y) + sin(r)⋅sin(y)  sin(p)⋅sin(y)⋅cos(r) - sin(r)⋅cos(y)  c\n",
       "\n",
       "  -sin(p)   ⎤\n",
       "            ⎥\n",
       "in(r)⋅cos(p)⎥\n",
       "            ⎥\n",
       "os(p)⋅cos(r)⎦"
      ]
     },
     "execution_count": 156,
     "metadata": {},
     "output_type": "execute_result"
    }
   ],
   "source": [
    "res = a.jacobian(c)\n",
    "res.evalf(subs={p:0.2})"
   ]
  },
  {
   "cell_type": "code",
   "execution_count": 157,
   "metadata": {},
   "outputs": [
    {
     "data": {
      "image/png": "[encoded data removed]",
      "text/latex": [
       "$\\displaystyle 2.0 r_{k} - 2.0$"
      ],
      "text/plain": [
       "2.0⋅rₖ - 2.0"
      ]
     },
     "execution_count": 157,
     "metadata": {},
     "output_type": "execute_result"
    }
   ],
   "source": [
    "m = 2 * r\n",
    "m.evalf(subs={r:1})"
   ]
  },
  {
   "cell_type": "code",
   "execution_count": null,
   "metadata": {},
   "outputs": [],
   "source": [
    "a,b,c=symbols(\"a,b,c\")\n",
    "M_a = Matrix([[1,0 ,0],[0, cos(a), sin(a)],[0, -sin(a), cos(a)]])\n",
    "M_b = Matrix([[cos(b), 0 ,-sin(b)],[0, 1, 0],[sin(b), 0, cos(b)]])\n",
    "M_c = Matrix([[cos(c), sin(c), 0],[-sin(c), cos(c), 0],[0, 0, 1]])"
   ]
  },
  {
   "cell_type": "markdown",
   "metadata": {},
   "source": []
  }
 ],
 "metadata": {
  "kernelspec": {
   "display_name": "Python 3.8.10 64-bit",
   "language": "python",
   "name": "python3"
  },
  "language_info": {
   "codemirror_mode": {
    "name": "ipython",
    "version": 3
   },
   "file_extension": ".py",
   "mimetype": "text/x-python",
   "name": "python",
   "nbconvert_exporter": "python",
   "pygments_lexer": "ipython3",
   "version": "3.8.10"
  },
  "orig_nbformat": 4,
  "vscode": {
   "interpreter": {
    "hash": "916dbcbb3f70747c44a77c7bcd40155683ae19c65e1c03b4aa3499c5328201f1"
   }
  }
 },
 "nbformat": 4,
 "nbformat_minor": 2
}
