{
 "cells": [
  {
   "cell_type": "code",
   "execution_count": 4,
   "metadata": {},
   "outputs": [
    {
     "name": "stdout",
     "output_type": "stream",
     "text": [
      "3602879701896397/9007199254740992\n",
      "3602879701896397/9007199254740992\n"
     ]
    },
    {
     "data": {
      "image/png": "[encoded data removed]",
      "text/latex": [
       "$\\displaystyle \\frac{3602879701896397}{9007199254740992}$"
      ],
      "text/plain": [
       "3602879701896397\n",
       "────────────────\n",
       "9007199254740992"
      ]
     },
     "execution_count": 4,
     "metadata": {},
     "output_type": "execute_result"
    }
   ],
   "source": [
    "from pprint import pprint\n",
    "from sympy import Rational\n",
    "q = Rational(1/10)\n",
    "q2 = Rational(1/10)\n",
    "val = (q + q2) *2\n",
    "print(val)\n",
    "pprint(val)\n",
    "val"
   ]
  },
  {
   "cell_type": "code",
   "execution_count": 5,
   "metadata": {},
   "outputs": [
    {
     "name": "stdout",
     "output_type": "stream",
     "text": [
      "(6, 1) <class 'numpy.ndarray'>\n",
      "[0.]\n"
     ]
    }
   ],
   "source": [
    "import numpy as np\n",
    "a = np.zeros((6,1))\n",
    "print(a.shape, type(a))\n",
    "print(a[0])"
   ]
  },
  {
   "cell_type": "code",
   "execution_count": 3,
   "metadata": {},
   "outputs": [
    {
     "name": "stdout",
     "output_type": "stream",
     "text": [
      "√2\n",
      "sqrt(2)\n",
      "------------------------\n",
      " 2⋅x\n",
      "ℯ   \n",
      "────\n",
      " 2  \n",
      "exp(2*x)/2\n"
     ]
    }
   ],
   "source": [
    "from sympy import pprint, Symbol, exp, sqrt\n",
    "from sympy import init_printing\n",
    "\n",
    "init_printing(use_unicode=True)\n",
    "\n",
    "x = Symbol('x')\n",
    "\n",
    "a = sqrt(2)\n",
    "pprint(a)\n",
    "print(a)\n",
    "\n",
    "print(\"------------------------\")\n",
    "\n",
    "c = (exp(x) ** 2)/2\n",
    "pprint(c)\n",
    "print(c)"
   ]
  },
  {
   "cell_type": "code",
   "execution_count": 17,
   "metadata": {},
   "outputs": [
    {
     "ename": "TypeError",
     "evalue": "Cannot convert expression to float",
     "output_type": "error",
     "traceback": [
      "\u001b[0;31m---------------------------------------------------------------------------\u001b[0m",
      "\u001b[0;31mTypeError\u001b[0m                                 Traceback (most recent call last)",
      "\u001b[1;32m/home/cidi/washing_house/src/efk/efk/hello.ipynb Cell 4\u001b[0m in \u001b[0;36m<cell line: 11>\u001b[0;34m()\u001b[0m\n\u001b[1;32m      <a href='vscode-notebook-cell:/home/cidi/washing_house/src/efk/efk/hello.ipynb#W4sZmlsZQ%3D%3D?line=7'>8</a>\u001b[0m q3 \u001b[39m=\u001b[39m Symbol(\u001b[39m\"\u001b[39m\u001b[39mq_3\u001b[39m\u001b[39m\"\u001b[39m)\n\u001b[1;32m      <a href='vscode-notebook-cell:/home/cidi/washing_house/src/efk/efk/hello.ipynb#W4sZmlsZQ%3D%3D?line=8'>9</a>\u001b[0m q0 \u001b[39m=\u001b[39m Symbol(\u001b[39m\"\u001b[39m\u001b[39mq_0\u001b[39m\u001b[39m\"\u001b[39m)\n\u001b[1;32m     <a href='vscode-notebook-cell:/home/cidi/washing_house/src/efk/efk/hello.ipynb#W4sZmlsZQ%3D%3D?line=10'>11</a>\u001b[0m M_x \u001b[39m=\u001b[39msympy\u001b[39m.\u001b[39mMatrix([[\u001b[39m1\u001b[39m, \u001b[39m0\u001b[39m, \u001b[39m0\u001b[39m],\n\u001b[0;32m---> <a href='vscode-notebook-cell:/home/cidi/washing_house/src/efk/efk/hello.ipynb#W4sZmlsZQ%3D%3D?line=11'>12</a>\u001b[0m       [\u001b[39m0\u001b[39m, cos(r), sin(r)],\n\u001b[1;32m     <a href='vscode-notebook-cell:/home/cidi/washing_house/src/efk/efk/hello.ipynb#W4sZmlsZQ%3D%3D?line=12'>13</a>\u001b[0m       [\u001b[39m0\u001b[39m, \u001b[39m-\u001b[39msin(r), cos(r)]])\n\u001b[1;32m     <a href='vscode-notebook-cell:/home/cidi/washing_house/src/efk/efk/hello.ipynb#W4sZmlsZQ%3D%3D?line=14'>15</a>\u001b[0m M_y \u001b[39m=\u001b[39msympy\u001b[39m.\u001b[39mMatrix([[cos(p), \u001b[39m0\u001b[39m, \u001b[39m-\u001b[39msin(p)],\n\u001b[1;32m     <a href='vscode-notebook-cell:/home/cidi/washing_house/src/efk/efk/hello.ipynb#W4sZmlsZQ%3D%3D?line=15'>16</a>\u001b[0m       [\u001b[39m0\u001b[39m, \u001b[39m1\u001b[39m, \u001b[39m0\u001b[39m],\n\u001b[1;32m     <a href='vscode-notebook-cell:/home/cidi/washing_house/src/efk/efk/hello.ipynb#W4sZmlsZQ%3D%3D?line=16'>17</a>\u001b[0m       [sin(p), \u001b[39m0\u001b[39m, cos(p)]])\n\u001b[1;32m     <a href='vscode-notebook-cell:/home/cidi/washing_house/src/efk/efk/hello.ipynb#W4sZmlsZQ%3D%3D?line=18'>19</a>\u001b[0m M_z \u001b[39m=\u001b[39msympy\u001b[39m.\u001b[39mMatrix([[cos(y), sin(y), \u001b[39m0\u001b[39m],\n\u001b[1;32m     <a href='vscode-notebook-cell:/home/cidi/washing_house/src/efk/efk/hello.ipynb#W4sZmlsZQ%3D%3D?line=19'>20</a>\u001b[0m       [\u001b[39m-\u001b[39msin(y), cos(y), \u001b[39m0\u001b[39m],\n\u001b[1;32m     <a href='vscode-notebook-cell:/home/cidi/washing_house/src/efk/efk/hello.ipynb#W4sZmlsZQ%3D%3D?line=20'>21</a>\u001b[0m       [\u001b[39m0\u001b[39m, \u001b[39m0\u001b[39m, \u001b[39m1\u001b[39m]])\n",
      "File \u001b[0;32m~/.local/lib/python3.8/site-packages/sympy/core/expr.py:351\u001b[0m, in \u001b[0;36mExpr.__float__\u001b[0;34m(self)\u001b[0m\n\u001b[1;32m    349\u001b[0m \u001b[39mif\u001b[39;00m result\u001b[39m.\u001b[39mis_number \u001b[39mand\u001b[39;00m result\u001b[39m.\u001b[39mas_real_imag()[\u001b[39m1\u001b[39m]:\n\u001b[1;32m    350\u001b[0m     \u001b[39mraise\u001b[39;00m \u001b[39mTypeError\u001b[39;00m(\u001b[39m\"\u001b[39m\u001b[39mCannot convert complex to float\u001b[39m\u001b[39m\"\u001b[39m)\n\u001b[0;32m--> 351\u001b[0m \u001b[39mraise\u001b[39;00m \u001b[39mTypeError\u001b[39;00m(\u001b[39m\"\u001b[39m\u001b[39mCannot convert expression to float\u001b[39m\u001b[39m\"\u001b[39m)\n",
      "\u001b[0;31mTypeError\u001b[0m: Cannot convert expression to float"
     ]
    }
   ],
   "source": [
    "from sympy import *\n",
    "r = Symbol(\"r\")\n",
    "p = Symbol(\"p\")\n",
    "y = Symbol(\"y\")\n",
    "q1 = Symbol(\"q_1\")\n",
    "q2 = Symbol(\"q_2\")\n",
    "q3 = Symbol(\"q_3\")\n",
    "q0 = Symbol(\"q_0\")\n",
    "\n",
    "M_x =Matrix([[1, 0, 0],\n",
    "      [0, cos(r), sin(r)],\n",
    "      [0, -sin(r), cos(r)]])\n",
    "\n",
    "M_y =Matrix([[cos(p), 0, -sin(p)],\n",
    "      [0, 1, 0],\n",
    "      [sin(p), 0, cos(p)]])\n",
    "\n",
    "M_z =Matrix([[cos(y), sin(y), 0],\n",
    "      [-sin(y), cos(y), 0],\n",
    "      [0, 0, 1]])\n",
    "\n",
    "drdt = Symbol(\"dr_dt\")\n",
    "dydt = Symbol(\"dy_dt\")\n",
    "dpdt = Symbol(\"dp_dt\")\n",
    "\n",
    "dr_t = Matrix([drdt, 0 , 0])\n",
    "dp_t = Matrix([0, dpdt , 0])\n",
    "dy_t = Matrix([0,  0, dydt])\n",
    "\n",
    "IMU_gyro = M_x\n"
   ]
  }
 ],
 "metadata": {
  "kernelspec": {
   "display_name": "Python 3.8.10 64-bit",
   "language": "python",
   "name": "python3"
  },
  "language_info": {
   "codemirror_mode": {
    "name": "ipython",
    "version": 3
   },
   "file_extension": ".py",
   "mimetype": "text/x-python",
   "name": "python",
   "nbconvert_exporter": "python",
   "pygments_lexer": "ipython3",
   "version": "3.8.10"
  },
  "orig_nbformat": 4,
  "vscode": {
   "interpreter": {
    "hash": "916dbcbb3f70747c44a77c7bcd40155683ae19c65e1c03b4aa3499c5328201f1"
   }
  }
 },
 "nbformat": 4,
 "nbformat_minor": 2
}
